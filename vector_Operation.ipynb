{
  "nbformat": 4,
  "nbformat_minor": 0,
  "metadata": {
    "colab": {
      "provenance": [],
      "authorship_tag": "ABX9TyPgKnl2tnQsd9CvvabkBqSU",
      "include_colab_link": true
    },
    "kernelspec": {
      "name": "python3",
      "display_name": "Python 3"
    },
    "language_info": {
      "name": "python"
    }
  },
  "cells": [
    {
      "cell_type": "markdown",
      "metadata": {
        "id": "view-in-github",
        "colab_type": "text"
      },
      "source": [
        "<a href=\"https://colab.research.google.com/github/Maheshkumarcseb/Machine_learning/blob/main/vector_Operation.ipynb\" target=\"_parent\"><img src=\"https://colab.research.google.com/assets/colab-badge.svg\" alt=\"Open In Colab\"/></a>"
      ]
    },
    {
      "cell_type": "code",
      "execution_count": 1,
      "metadata": {
        "id": "owpEGxWJoEkn"
      },
      "outputs": [],
      "source": [
        "import numpy as np\n"
      ]
    },
    {
      "cell_type": "markdown",
      "source": [
        "Dot product of two vectors\n"
      ],
      "metadata": {
        "id": "zMJQ2pxupo1U"
      }
    },
    {
      "cell_type": "code",
      "source": [
        "a=np.array([2,3])\n",
        "b=np.array([4,4])\n",
        "a_dot_b=np.dot(a,b)\n",
        "print(a_dot_b)"
      ],
      "metadata": {
        "colab": {
          "base_uri": "https://localhost:8080/"
        },
        "id": "WQifryH6pEnW",
        "outputId": "3646722d-78dc-47d6-89a1-94764c658c15"
      },
      "execution_count": 2,
      "outputs": [
        {
          "output_type": "stream",
          "name": "stdout",
          "text": [
            "20\n"
          ]
        }
      ]
    },
    {
      "cell_type": "code",
      "source": [
        "c=np.array([40,20,35])\n",
        "d=np.array([2,3,1])\n",
        "c_dot_d=np.dot(c,d)\n",
        "print(c_dot_d)"
      ],
      "metadata": {
        "colab": {
          "base_uri": "https://localhost:8080/"
        },
        "id": "PkYyBiWTpXe4",
        "outputId": "4b6e31af-f0c6-4ce0-fdb0-cadc5ecd68bd"
      },
      "execution_count": 3,
      "outputs": [
        {
          "output_type": "stream",
          "name": "stdout",
          "text": [
            "175\n"
          ]
        }
      ]
    },
    {
      "cell_type": "markdown",
      "source": [
        "Cross product of two vector"
      ],
      "metadata": {
        "id": "s9TjKsn4pvhr"
      }
    },
    {
      "cell_type": "code",
      "source": [
        "a=np.array([2,3])\n",
        "b=np.array([4,4])\n",
        "a_cross_b=np.cross(a,b)\n",
        "print(a_cross_b)"
      ],
      "metadata": {
        "colab": {
          "base_uri": "https://localhost:8080/"
        },
        "id": "MfzEDxUxpoCG",
        "outputId": "2c597e27-23bc-4666-dd09-aef594f779ae"
      },
      "execution_count": 4,
      "outputs": [
        {
          "output_type": "stream",
          "name": "stdout",
          "text": [
            "-4\n"
          ]
        }
      ]
    },
    {
      "cell_type": "code",
      "source": [
        "\n",
        "c=np.array([40,20,35])\n",
        "d=np.array([2,3,1])\n",
        "c_cross_d=np.cross(c,d)\n",
        "print(c_cross_d)"
      ],
      "metadata": {
        "colab": {
          "base_uri": "https://localhost:8080/"
        },
        "id": "YpQzTenYp6FN",
        "outputId": "46208bb4-3625-481e-c7df-2031c4cb2850"
      },
      "execution_count": 5,
      "outputs": [
        {
          "output_type": "stream",
          "name": "stdout",
          "text": [
            "[-85  30  80]\n"
          ]
        }
      ]
    },
    {
      "cell_type": "markdown",
      "source": [
        "Projection of one vector on the other vector\n"
      ],
      "metadata": {
        "id": "VKaSVfgwqVLU"
      }
    },
    {
      "cell_type": "code",
      "source": [
        "a=np.array([2,5])\n",
        "b=np.array([8,-6])\n",
        "#magnitude of the b vector\n",
        "magnitude_of_v=np.sqrt(sum(b**2))\n",
        "proj_of_a_on_b=(np.dot(a,b)/magnitude_of_v**2)*b\n",
        "print(proj_of_a_on_b)\n",
        "\n",
        "\n"
      ],
      "metadata": {
        "colab": {
          "base_uri": "https://localhost:8080/"
        },
        "id": "GZcqi-eZqJwg",
        "outputId": "dc542782-c62e-4eab-a5d4-8901049f29b2"
      },
      "execution_count": 6,
      "outputs": [
        {
          "output_type": "stream",
          "name": "stdout",
          "text": [
            "[-1.12  0.84]\n"
          ]
        }
      ]
    },
    {
      "cell_type": "code",
      "source": [
        "a=np.array([2,5,10])\n",
        "b=np.array([8,-6,9])\n",
        "#magnitude of the b vector\n",
        "magnitude_of_v=np.sqrt(sum(b**2))\n",
        "proj_of_a_on_b=(np.dot(a,b)/magnitude_of_v**2)*b\n",
        "print(proj_of_a_on_b)\n"
      ],
      "metadata": {
        "colab": {
          "base_uri": "https://localhost:8080/"
        },
        "id": "KK8y2UZ8rWnm",
        "outputId": "e955389d-3114-41d7-91db-efbfea003736"
      },
      "execution_count": 7,
      "outputs": [
        {
          "output_type": "stream",
          "name": "stdout",
          "text": [
            "[ 3.35911602 -2.51933702  3.77900552]\n"
          ]
        }
      ]
    },
    {
      "cell_type": "code",
      "source": [],
      "metadata": {
        "id": "Tz890gg1rsCA"
      },
      "execution_count": null,
      "outputs": []
    }
  ]
}