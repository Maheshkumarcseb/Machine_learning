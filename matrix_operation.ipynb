{
  "nbformat": 4,
  "nbformat_minor": 0,
  "metadata": {
    "colab": {
      "provenance": [],
      "authorship_tag": "ABX9TyONd6s6FFUaAG0pVYyLYaQ+",
      "include_colab_link": true
    },
    "kernelspec": {
      "name": "python3",
      "display_name": "Python 3"
    },
    "language_info": {
      "name": "python"
    }
  },
  "cells": [
    {
      "cell_type": "markdown",
      "metadata": {
        "id": "view-in-github",
        "colab_type": "text"
      },
      "source": [
        "<a href=\"https://colab.research.google.com/github/Maheshkumarcseb/Machine_learning/blob/main/matrix_operation.ipynb\" target=\"_parent\"><img src=\"https://colab.research.google.com/assets/colab-badge.svg\" alt=\"Open In Colab\"/></a>"
      ]
    },
    {
      "cell_type": "code",
      "execution_count": 1,
      "metadata": {
        "id": "4ygIi-vtwC7f"
      },
      "outputs": [],
      "source": [
        "import numpy as np\n"
      ]
    },
    {
      "cell_type": "markdown",
      "source": [
        "Addition of two matrix\n"
      ],
      "metadata": {
        "id": "_08H-Bavw50d"
      }
    },
    {
      "cell_type": "code",
      "source": [
        "a=np.array([[1,2],[3,4]])\n",
        "b=np.array([[5,6],[7,8]])\n",
        "c=a+b\n",
        "print(c)"
      ],
      "metadata": {
        "colab": {
          "base_uri": "https://localhost:8080/"
        },
        "id": "7Akqe-dOw4-m",
        "outputId": "4741516a-b366-4b40-bd9f-c7195860a63c"
      },
      "execution_count": 2,
      "outputs": [
        {
          "output_type": "stream",
          "name": "stdout",
          "text": [
            "[[ 6  8]\n",
            " [10 12]]\n"
          ]
        }
      ]
    },
    {
      "cell_type": "code",
      "source": [
        "a=np.array([[1,2,3],[3,4,5],[6,7,8]])\n",
        "b=np.array([[5,6,7],[7,8,5],[2,5,3]])\n",
        "c=a+b\n",
        "print(c)"
      ],
      "metadata": {
        "colab": {
          "base_uri": "https://localhost:8080/"
        },
        "id": "aP4Ca172w-G-",
        "outputId": "5ed8850b-2a04-4e9e-970f-033069dc6edc"
      },
      "execution_count": 3,
      "outputs": [
        {
          "output_type": "stream",
          "name": "stdout",
          "text": [
            "[[ 6  8 10]\n",
            " [10 12 10]\n",
            " [ 8 12 11]]\n"
          ]
        }
      ]
    },
    {
      "cell_type": "code",
      "source": [
        "c.shape"
      ],
      "metadata": {
        "colab": {
          "base_uri": "https://localhost:8080/"
        },
        "id": "L7IL4LfOxJzQ",
        "outputId": "469ef3d1-fe8b-4e58-d659-37e79ee134fd"
      },
      "execution_count": 4,
      "outputs": [
        {
          "output_type": "execute_result",
          "data": {
            "text/plain": [
              "(3, 3)"
            ]
          },
          "metadata": {},
          "execution_count": 4
        }
      ]
    },
    {
      "cell_type": "code",
      "source": [
        "# create two matrix with random values\n",
        "matrix_1=np.random.randint(1,10,size=(3,3))\n",
        "matrix_2=np.random.randint(1,10,size=(3,3))\n",
        "print(matrix_1)\n"
      ],
      "metadata": {
        "colab": {
          "base_uri": "https://localhost:8080/"
        },
        "id": "moI4ciw3xNMA",
        "outputId": "9ce2d865-cda2-4e1c-8edc-334c0598cdc6"
      },
      "execution_count": 7,
      "outputs": [
        {
          "output_type": "stream",
          "name": "stdout",
          "text": [
            "[[6 9 1]\n",
            " [9 3 9]\n",
            " [3 5 2]]\n"
          ]
        }
      ]
    },
    {
      "cell_type": "code",
      "source": [
        "print(matrix_2)"
      ],
      "metadata": {
        "colab": {
          "base_uri": "https://localhost:8080/"
        },
        "id": "A1hVPQC7xbyd",
        "outputId": "09293bb2-8e73-4605-a314-287edb1b0c3a"
      },
      "execution_count": 8,
      "outputs": [
        {
          "output_type": "stream",
          "name": "stdout",
          "text": [
            "[[2 5 2]\n",
            " [2 1 4]\n",
            " [2 3 7]]\n"
          ]
        }
      ]
    },
    {
      "cell_type": "code",
      "source": [
        "sum1=np.add(matrix_1,matrix_2)\n",
        "print(sum1)"
      ],
      "metadata": {
        "colab": {
          "base_uri": "https://localhost:8080/"
        },
        "id": "Abm23x52xmv3",
        "outputId": "77fa986f-704c-40f8-b703-36369f28a7f8"
      },
      "execution_count": 10,
      "outputs": [
        {
          "output_type": "stream",
          "name": "stdout",
          "text": [
            "[[ 8 14  3]\n",
            " [11  4 13]\n",
            " [ 5  8  9]]\n"
          ]
        }
      ]
    },
    {
      "cell_type": "markdown",
      "source": [
        "Matrix Subtraction"
      ],
      "metadata": {
        "id": "tEohouC4yBwW"
      }
    },
    {
      "cell_type": "code",
      "source": [
        "a=np.array([[1,2],[3,4]])\n",
        "b=np.array([[5,6],[7,8]])\n",
        "c=a-b\n",
        "print(c)"
      ],
      "metadata": {
        "colab": {
          "base_uri": "https://localhost:8080/"
        },
        "id": "hTLCYFwexs2d",
        "outputId": "4b075915-eb81-47b8-ecf6-cc87286b9467"
      },
      "execution_count": 11,
      "outputs": [
        {
          "output_type": "stream",
          "name": "stdout",
          "text": [
            "[[-4 -4]\n",
            " [-4 -4]]\n"
          ]
        }
      ]
    },
    {
      "cell_type": "code",
      "source": [
        "e=np.subtract(a,b)\n",
        "print(e)"
      ],
      "metadata": {
        "colab": {
          "base_uri": "https://localhost:8080/"
        },
        "id": "kVgoKMo-yIB5",
        "outputId": "ebe86858-bfd0-4f91-adb8-2710de34ddee"
      },
      "execution_count": 12,
      "outputs": [
        {
          "output_type": "stream",
          "name": "stdout",
          "text": [
            "[[-4 -4]\n",
            " [-4 -4]]\n"
          ]
        }
      ]
    },
    {
      "cell_type": "code",
      "source": [
        "#create two matrices with random values\n",
        "matrix_1=np.random.randint(1,10,size=(3,3))\n",
        "matrix_2=np.random.randint(1,10,size=(3,3))\n",
        "print(matrix_1)\n"
      ],
      "metadata": {
        "colab": {
          "base_uri": "https://localhost:8080/"
        },
        "id": "bHuQhXeXyXk-",
        "outputId": "f46b2860-c358-4f8b-eba6-7789d9036d4d"
      },
      "execution_count": 14,
      "outputs": [
        {
          "output_type": "stream",
          "name": "stdout",
          "text": [
            "[[5 5 2]\n",
            " [2 7 8]\n",
            " [2 5 1]]\n"
          ]
        }
      ]
    },
    {
      "cell_type": "code",
      "source": [
        "print(matrix_2)"
      ],
      "metadata": {
        "colab": {
          "base_uri": "https://localhost:8080/"
        },
        "id": "mpfMC6Ubyrjz",
        "outputId": "edd64c99-d0c4-49e4-ce6a-50eebfce2648"
      },
      "execution_count": 15,
      "outputs": [
        {
          "output_type": "stream",
          "name": "stdout",
          "text": [
            "[[7 9 5]\n",
            " [5 8 7]\n",
            " [2 8 1]]\n"
          ]
        }
      ]
    },
    {
      "cell_type": "code",
      "source": [
        "diff=np.subtract(matrix_1,matrix_2)\n",
        "print(diff)"
      ],
      "metadata": {
        "colab": {
          "base_uri": "https://localhost:8080/"
        },
        "id": "9i7rNESqytHo",
        "outputId": "dca68783-1b13-43bc-a532-96bcbfec6a06"
      },
      "execution_count": 16,
      "outputs": [
        {
          "output_type": "stream",
          "name": "stdout",
          "text": [
            "[[-2 -4 -3]\n",
            " [-3 -1  1]\n",
            " [ 0 -3  0]]\n"
          ]
        }
      ]
    },
    {
      "cell_type": "markdown",
      "source": [
        "Multiply a matrix by  a scaler"
      ],
      "metadata": {
        "id": "eCqt05ijyydk"
      }
    },
    {
      "cell_type": "code",
      "source": [
        "x=5\n",
        "y=np.random.randint(10,size=(4,4))\n",
        "print(y)"
      ],
      "metadata": {
        "colab": {
          "base_uri": "https://localhost:8080/"
        },
        "id": "CELFROtLyu_K",
        "outputId": "d2980ae7-5b5b-467e-8661-a903380ded4e"
      },
      "execution_count": 18,
      "outputs": [
        {
          "output_type": "stream",
          "name": "stdout",
          "text": [
            "[[9 1 5 8]\n",
            " [9 7 0 8]\n",
            " [9 7 7 2]\n",
            " [7 4 5 8]]\n"
          ]
        }
      ]
    },
    {
      "cell_type": "code",
      "source": [
        "product=np.multiply(x,y)\n",
        "print(product)"
      ],
      "metadata": {
        "colab": {
          "base_uri": "https://localhost:8080/"
        },
        "id": "jq86c4JuzA6w",
        "outputId": "f99e51d1-7128-40dd-99f5-5dd5a2b856d0"
      },
      "execution_count": 19,
      "outputs": [
        {
          "output_type": "stream",
          "name": "stdout",
          "text": [
            "[[45  5 25 40]\n",
            " [45 35  0 40]\n",
            " [45 35 35 10]\n",
            " [35 20 25 40]]\n"
          ]
        }
      ]
    },
    {
      "cell_type": "markdown",
      "source": [
        "Multiplication of two matrix"
      ],
      "metadata": {
        "id": "l91mSJ_mzV8d"
      }
    },
    {
      "cell_type": "code",
      "source": [
        "#crate two matrices with random values\n",
        "matrix_1=np.random.randint(1,10,size=(3,3))\n",
        "matrix_2=np.random.randint(1,10,size=(3,4))\n",
        "print(matrix_1)"
      ],
      "metadata": {
        "colab": {
          "base_uri": "https://localhost:8080/"
        },
        "id": "Wa1GqDiTzJID",
        "outputId": "8198ce93-9eac-4aa4-f445-11f755ecae57"
      },
      "execution_count": 20,
      "outputs": [
        {
          "output_type": "stream",
          "name": "stdout",
          "text": [
            "[[1 7 4]\n",
            " [4 6 1]\n",
            " [8 8 3]]\n"
          ]
        }
      ]
    },
    {
      "cell_type": "code",
      "source": [
        "print(matrix_2)"
      ],
      "metadata": {
        "colab": {
          "base_uri": "https://localhost:8080/"
        },
        "id": "39ckddq_zpZY",
        "outputId": "c182bd52-36bd-4600-eb2b-dfb0d45eb774"
      },
      "execution_count": 21,
      "outputs": [
        {
          "output_type": "stream",
          "name": "stdout",
          "text": [
            "[[5 7 1 5]\n",
            " [5 7 3 7]\n",
            " [9 1 7 3]]\n"
          ]
        }
      ]
    },
    {
      "cell_type": "code",
      "source": [
        "mul=np.dot(matrix_1,matrix_2)\n",
        "print(mul)"
      ],
      "metadata": {
        "colab": {
          "base_uri": "https://localhost:8080/"
        },
        "id": "5BMqLW2JzrXq",
        "outputId": "d8b779ba-ef57-4d6e-ea52-88c4fcc9466f"
      },
      "execution_count": 22,
      "outputs": [
        {
          "output_type": "stream",
          "name": "stdout",
          "text": [
            "[[ 76  60  50  66]\n",
            " [ 59  71  29  65]\n",
            " [107 115  53 105]]\n"
          ]
        }
      ]
    },
    {
      "cell_type": "code",
      "source": [
        "mul.shape"
      ],
      "metadata": {
        "colab": {
          "base_uri": "https://localhost:8080/"
        },
        "id": "H1Zz5C37zvt3",
        "outputId": "6fee778a-2c6c-435a-aad0-f0339790ff4a"
      },
      "execution_count": 23,
      "outputs": [
        {
          "output_type": "execute_result",
          "data": {
            "text/plain": [
              "(3, 4)"
            ]
          },
          "metadata": {},
          "execution_count": 23
        }
      ]
    },
    {
      "cell_type": "markdown",
      "source": [
        "Element wise matrix multiplication"
      ],
      "metadata": {
        "id": "wvquwkcb0Nel"
      }
    },
    {
      "cell_type": "code",
      "source": [
        "#crate two matrices with random values\n",
        "matrix_3=np.random.randint(5,size=(3,3))\n",
        "matrix_4=np.random.randint(5,size=(3,3))\n",
        "print(matrix_1)"
      ],
      "metadata": {
        "colab": {
          "base_uri": "https://localhost:8080/"
        },
        "id": "kK0Fo0Hqz0qg",
        "outputId": "cc36407d-0c4d-4cb7-f106-c3ed018af0f0"
      },
      "execution_count": 24,
      "outputs": [
        {
          "output_type": "stream",
          "name": "stdout",
          "text": [
            "[[1 7 4]\n",
            " [4 6 1]\n",
            " [8 8 3]]\n"
          ]
        }
      ]
    },
    {
      "cell_type": "code",
      "source": [
        "print(matrix_2)"
      ],
      "metadata": {
        "colab": {
          "base_uri": "https://localhost:8080/"
        },
        "id": "VO5XYGrZ0UNj",
        "outputId": "4844151c-1307-4ed6-ac65-162633db19b8"
      },
      "execution_count": 25,
      "outputs": [
        {
          "output_type": "stream",
          "name": "stdout",
          "text": [
            "[[5 7 1 5]\n",
            " [5 7 3 7]\n",
            " [9 1 7 3]]\n"
          ]
        }
      ]
    },
    {
      "cell_type": "code",
      "source": [
        "prod=np.multiply(matrix_3,matrix_4)\n",
        "print(prod)\n"
      ],
      "metadata": {
        "colab": {
          "base_uri": "https://localhost:8080/"
        },
        "id": "mSOhgtME0WFp",
        "outputId": "f3ddcd0e-4251-4044-d7e8-a4332bf7afe9"
      },
      "execution_count": 26,
      "outputs": [
        {
          "output_type": "stream",
          "name": "stdout",
          "text": [
            "[[ 2  3  0]\n",
            " [ 0  2  4]\n",
            " [ 3  0 16]]\n"
          ]
        }
      ]
    },
    {
      "cell_type": "code",
      "source": [],
      "metadata": {
        "id": "V82-YroD0cdX"
      },
      "execution_count": null,
      "outputs": []
    }
  ]
}