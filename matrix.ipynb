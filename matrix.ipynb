{
  "nbformat": 4,
  "nbformat_minor": 0,
  "metadata": {
    "colab": {
      "provenance": [],
      "authorship_tag": "ABX9TyOc4eqeI1bQzmHMBam/icgN",
      "include_colab_link": true
    },
    "kernelspec": {
      "name": "python3",
      "display_name": "Python 3"
    },
    "language_info": {
      "name": "python"
    }
  },
  "cells": [
    {
      "cell_type": "markdown",
      "metadata": {
        "id": "view-in-github",
        "colab_type": "text"
      },
      "source": [
        "<a href=\"https://colab.research.google.com/github/Maheshkumarcseb/Machine_learning/blob/main/matrix.ipynb\" target=\"_parent\"><img src=\"https://colab.research.google.com/assets/colab-badge.svg\" alt=\"Open In Colab\"/></a>"
      ]
    },
    {
      "cell_type": "code",
      "execution_count": 1,
      "metadata": {
        "id": "n59zdW0XsbIi"
      },
      "outputs": [],
      "source": [
        "import numpy as np\n"
      ]
    },
    {
      "cell_type": "markdown",
      "source": [
        "Creating a matrix using numpy"
      ],
      "metadata": {
        "id": "K1RuV7yWtSbu"
      }
    },
    {
      "cell_type": "code",
      "source": [
        "matrix_1 = np.array([[1,2],[4,5]])\n",
        "print(matrix_1)"
      ],
      "metadata": {
        "colab": {
          "base_uri": "https://localhost:8080/"
        },
        "id": "awK3m8xqtNdN",
        "outputId": "d01948bf-e24a-4546-d6ec-a67ec08280bb"
      },
      "execution_count": 2,
      "outputs": [
        {
          "output_type": "stream",
          "name": "stdout",
          "text": [
            "[[1 2]\n",
            " [4 5]]\n"
          ]
        }
      ]
    },
    {
      "cell_type": "code",
      "source": [
        "matrix_1.shape"
      ],
      "metadata": {
        "colab": {
          "base_uri": "https://localhost:8080/"
        },
        "id": "ZFEbPUpbtehv",
        "outputId": "8bcb3bcd-23e4-4509-a9d4-f49b49f963c2"
      },
      "execution_count": 3,
      "outputs": [
        {
          "output_type": "execute_result",
          "data": {
            "text/plain": [
              "(2, 2)"
            ]
          },
          "metadata": {},
          "execution_count": 3
        }
      ]
    },
    {
      "cell_type": "code",
      "source": [
        "matrix_2 = np.array([[1,2,3],[4,5,6],[7,8,9]])\n",
        "print(matrix_2)"
      ],
      "metadata": {
        "colab": {
          "base_uri": "https://localhost:8080/"
        },
        "id": "T-nh1QIEthLX",
        "outputId": "e0a18c63-5cdc-49ea-8443-b1b0c34b55b1"
      },
      "execution_count": 4,
      "outputs": [
        {
          "output_type": "stream",
          "name": "stdout",
          "text": [
            "[[1 2 3]\n",
            " [4 5 6]\n",
            " [7 8 9]]\n"
          ]
        }
      ]
    },
    {
      "cell_type": "code",
      "source": [
        "matrix_2.shape\n"
      ],
      "metadata": {
        "colab": {
          "base_uri": "https://localhost:8080/"
        },
        "id": "Vvp25DtotpF0",
        "outputId": "947991d9-0525-4fce-dbec-0fc9e337c294"
      },
      "execution_count": 5,
      "outputs": [
        {
          "output_type": "execute_result",
          "data": {
            "text/plain": [
              "(3, 3)"
            ]
          },
          "metadata": {},
          "execution_count": 5
        }
      ]
    },
    {
      "cell_type": "markdown",
      "source": [
        "creating matrix with random values"
      ],
      "metadata": {
        "id": "9o17aY1wt7Zq"
      }
    },
    {
      "cell_type": "code",
      "source": [
        "random_matrix = np.random.rand(3,3)\n",
        "print(random_matrix)"
      ],
      "metadata": {
        "colab": {
          "base_uri": "https://localhost:8080/"
        },
        "id": "U_pK0U-HttlI",
        "outputId": "a50c46fc-fdfe-4789-d748-93e011b13748"
      },
      "execution_count": 6,
      "outputs": [
        {
          "output_type": "stream",
          "name": "stdout",
          "text": [
            "[[0.46034147 0.83638706 0.947413  ]\n",
            " [0.08537781 0.59104215 0.53322582]\n",
            " [0.44287197 0.84454285 0.56112212]]\n"
          ]
        }
      ]
    },
    {
      "cell_type": "code",
      "source": [
        "#creating matrix with random integers\n",
        "random_integer_matrix = np.random.randint(100,size=(5,5))\n",
        "print(random_integer_matrix)"
      ],
      "metadata": {
        "colab": {
          "base_uri": "https://localhost:8080/"
        },
        "id": "lfn-T7lruAlY",
        "outputId": "a3a7d39e-a44c-41fc-f181-62aaa905ce15"
      },
      "execution_count": 9,
      "outputs": [
        {
          "output_type": "stream",
          "name": "stdout",
          "text": [
            "[[ 1 86 82 10 10]\n",
            " [85 50 18 56 24]\n",
            " [97 54 60 90 76]\n",
            " [82 99  2 10 58]\n",
            " [82 26 15 69 94]]\n"
          ]
        }
      ]
    },
    {
      "cell_type": "markdown",
      "source": [
        "matrix as all the values as 1"
      ],
      "metadata": {
        "id": "aXloEeKnujHp"
      }
    },
    {
      "cell_type": "code",
      "source": [
        "matrix3=np.ones((3,3))\n",
        "print(matrix3)"
      ],
      "metadata": {
        "colab": {
          "base_uri": "https://localhost:8080/"
        },
        "id": "A3-I2gWEuW9e",
        "outputId": "d7aa789f-ceb4-4220-cb86-c3169be9e4ec"
      },
      "execution_count": 10,
      "outputs": [
        {
          "output_type": "stream",
          "name": "stdout",
          "text": [
            "[[1. 1. 1.]\n",
            " [1. 1. 1.]\n",
            " [1. 1. 1.]]\n"
          ]
        }
      ]
    },
    {
      "cell_type": "markdown",
      "source": [
        "matrix as all the values as 0\n"
      ],
      "metadata": {
        "id": "w4tsThqsurog"
      }
    },
    {
      "cell_type": "code",
      "source": [
        "matrix4=np.zeros((3,3))\n",
        "print(matrix4)"
      ],
      "metadata": {
        "colab": {
          "base_uri": "https://localhost:8080/"
        },
        "id": "Ml3imIRzupcA",
        "outputId": "2aa9be91-c5ef-4160-c650-e1c9e30d97ed"
      },
      "execution_count": 11,
      "outputs": [
        {
          "output_type": "stream",
          "name": "stdout",
          "text": [
            "[[0. 0. 0.]\n",
            " [0. 0. 0.]\n",
            " [0. 0. 0.]]\n"
          ]
        }
      ]
    },
    {
      "cell_type": "code",
      "source": [
        "matrix4=np.zeros((3,3),dtype=int)\n",
        "print(matrix4)"
      ],
      "metadata": {
        "colab": {
          "base_uri": "https://localhost:8080/"
        },
        "id": "w85WaxaeuxPS",
        "outputId": "6eb7ad80-eb57-44e9-cfe8-b80083952034"
      },
      "execution_count": 12,
      "outputs": [
        {
          "output_type": "stream",
          "name": "stdout",
          "text": [
            "[[0 0 0]\n",
            " [0 0 0]\n",
            " [0 0 0]]\n"
          ]
        }
      ]
    },
    {
      "cell_type": "markdown",
      "source": [
        "Identity matrix"
      ],
      "metadata": {
        "id": "EMh43pJMu-aJ"
      }
    },
    {
      "cell_type": "code",
      "source": [
        "identity_matrix=np.eye(3, dtype=int)\n",
        "print(identity_matrix)"
      ],
      "metadata": {
        "colab": {
          "base_uri": "https://localhost:8080/"
        },
        "id": "MF9qyFAUu6Rs",
        "outputId": "804fffb4-c83c-4cf0-97c0-318f4783af5f"
      },
      "execution_count": 16,
      "outputs": [
        {
          "output_type": "stream",
          "name": "stdout",
          "text": [
            "[[1 0 0]\n",
            " [0 1 0]\n",
            " [0 0 1]]\n"
          ]
        }
      ]
    },
    {
      "cell_type": "markdown",
      "source": [
        "Transpose of a Matrix"
      ],
      "metadata": {
        "id": "V19HNQNtvZfc"
      }
    },
    {
      "cell_type": "code",
      "source": [
        "# matrix with a random integer values\n",
        "a=np.random.randint(100,size=(3,3))\n",
        "print(a)"
      ],
      "metadata": {
        "colab": {
          "base_uri": "https://localhost:8080/"
        },
        "id": "vX4pirGIvEhY",
        "outputId": "41dd7e15-f76d-42c6-a4b7-e12f64c8504e"
      },
      "execution_count": 17,
      "outputs": [
        {
          "output_type": "stream",
          "name": "stdout",
          "text": [
            "[[35 18 95]\n",
            " [62 93 63]\n",
            " [80 31 10]]\n"
          ]
        }
      ]
    },
    {
      "cell_type": "code",
      "source": [
        "transpose_of_a=np.transpose(a)\n",
        "print(transpose_of_a)\n",
        "#"
      ],
      "metadata": {
        "colab": {
          "base_uri": "https://localhost:8080/"
        },
        "id": "hHmBOZT0vhtS",
        "outputId": "ee0dbbba-46d5-4f07-ae72-23f0524bb8df"
      },
      "execution_count": 18,
      "outputs": [
        {
          "output_type": "stream",
          "name": "stdout",
          "text": [
            "[[35 62 80]\n",
            " [18 93 31]\n",
            " [95 63 10]]\n"
          ]
        }
      ]
    },
    {
      "cell_type": "code",
      "source": [],
      "metadata": {
        "id": "rURSLOdcvs91"
      },
      "execution_count": null,
      "outputs": []
    }
  ]
}